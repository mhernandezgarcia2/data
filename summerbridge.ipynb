{
 "cells": [
  {
   "cell_type": "code",
   "execution_count": null,
   "id": "dc94553f-22c1-4af2-8a1c-59b78da6969f",
   "metadata": {},
   "outputs": [],
   "source": [
    "3+7"
   ]
  },
  {
   "cell_type": "code",
   "execution_count": null,
   "id": "fda428ad-48ac-4fe7-a4b7-4abdd80a3c92",
   "metadata": {},
   "outputs": [],
   "source": [
    "5+25"
   ]
  },
  {
   "cell_type": "code",
   "execution_count": null,
   "id": "4618b9b9-9c84-4a84-b8b5-e54bd6accd09",
   "metadata": {},
   "outputs": [],
   "source": [
    "print"
   ]
  },
  {
   "cell_type": "code",
   "execution_count": null,
   "id": "32b56187-da9b-4ea9-b5f6-4c60a3b55385",
   "metadata": {},
   "outputs": [],
   "source": [
    "print(\"hello\")"
   ]
  },
  {
   "cell_type": "code",
   "execution_count": null,
   "id": "7700e3d3-d1ab-4009-9523-871d04ef7372",
   "metadata": {},
   "outputs": [],
   "source": [
    "print(7)"
   ]
  },
  {
   "cell_type": "code",
   "execution_count": null,
   "id": "5a59fe38-20ca-408c-a2b3-124de1ad50b2",
   "metadata": {},
   "outputs": [],
   "source": [
    "name = \"Marisol\"\n",
    "age = 21"
   ]
  },
  {
   "cell_type": "code",
   "execution_count": null,
   "id": "2ecf0c55-ad0f-4ee0-bb82-0d1a8704931d",
   "metadata": {},
   "outputs": [],
   "source": [
    "print(age)"
   ]
  },
  {
   "cell_type": "code",
   "execution_count": null,
   "id": "e8cfc501-40ed-4e7c-a1ca-33d05ef01b14",
   "metadata": {},
   "outputs": [],
   "source": [
    "#This is a comment. It will not run "
   ]
  },
  {
   "cell_type": "code",
   "execution_count": null,
   "id": "bec56083-31b6-4c67-aa6f-31a7fa5e42cb",
   "metadata": {},
   "outputs": [],
   "source": [
    "# ou can echo values without using print in this notebook \n",
    "name"
   ]
  },
  {
   "cell_type": "markdown",
   "id": "5f9aa8f6-f28a-43a4-8453-cf0e1b602e40",
   "metadata": {},
   "source": [
    "# Variables and Values"
   ]
  },
  {
   "cell_type": "code",
   "execution_count": null,
   "id": "0e18c113-578f-4b6f-8300-74a64f9544f1",
   "metadata": {},
   "outputs": [],
   "source": [
    "# Variables can be used in calculations \n",
    "print(age)\n",
    "age = age +3 \n",
    "print(age)"
   ]
  },
  {
   "cell_type": "code",
   "execution_count": null,
   "id": "f788294b-def1-4337-ac7e-ca73039866c3",
   "metadata": {},
   "outputs": [],
   "source": [
    "#Order of operations matters!\n",
    "first = 1\n",
    "second = 2 \n",
    "second = first * 5\n",
    "first = 2 \n",
    "\n",
    "print(first)\n",
    "print(second)"
   ]
  },
  {
   "cell_type": "code",
   "execution_count": null,
   "id": "f4bc951f-2025-464e-891f-f28d5bfe1eee",
   "metadata": {
    "scrolled": true
   },
   "outputs": [],
   "source": [
    "# Values have types. Types affect what you can do with them. \n",
    "print(5-3)\n",
    "#print(\"hello\" - \"h\")"
   ]
  },
  {
   "cell_type": "code",
   "execution_count": null,
   "id": "d921a729-4a90-4fc4-9dff-695224078763",
   "metadata": {},
   "outputs": [],
   "source": [
    "print(len(\"hello\"))\n",
    "#print(len(6))"
   ]
  },
  {
   "cell_type": "code",
   "execution_count": null,
   "id": "e533c784-b93a-4697-8424-5bee8e9c5ab4",
   "metadata": {},
   "outputs": [],
   "source": [
    "## Challenge\n",
    "#Explain what each operator does \n",
    "\n",
    "print(5 // 3)\n",
    "\n",
    "print(5 / 3)\n",
    "\n",
    "print(5 % 3)"
   ]
  },
  {
   "cell_type": "markdown",
   "id": "bab219be-0168-4ee7-882c-ccd69de07c84",
   "metadata": {},
   "source": [
    "# Getting help"
   ]
  },
  {
   "cell_type": "code",
   "execution_count": null,
   "id": "181c9e16-19d8-4234-8020-93e56f927f99",
   "metadata": {},
   "outputs": [],
   "source": [
    "# Rounding numbers is built in \n",
    "round(3.14159)"
   ]
  },
  {
   "cell_type": "code",
   "execution_count": null,
   "id": "60cbaa78-e049-4dbb-9dd5-abdd46e8fa5d",
   "metadata": {},
   "outputs": [],
   "source": [
    "round(3.14159, 2)"
   ]
  },
  {
   "cell_type": "code",
   "execution_count": null,
   "id": "47ec72db-75c5-4b8e-90e3-fa96f600c8c6",
   "metadata": {},
   "outputs": [],
   "source": [
    "help(round)"
   ]
  },
  {
   "cell_type": "code",
   "execution_count": null,
   "id": "2eb444ad-409b-4705-a035-4c36613e5629",
   "metadata": {},
   "outputs": [],
   "source": [
    "round(3.14159, ndigits=2)"
   ]
  },
  {
   "cell_type": "code",
   "execution_count": null,
   "id": "2d662bb7-6f59-4d35-9cb5-f23d3a11cdd3",
   "metadata": {},
   "outputs": [],
   "source": [
    "# All functions return a new value\n",
    "rounded_pi = round(3.14159, 2)\n",
    "print(rounded_pi)"
   ]
  },
  {
   "cell_type": "markdown",
   "id": "01c26b0e-843c-4480-8c2b-a36fed871996",
   "metadata": {},
   "source": [
    "## Challange\n",
    "\n",
    "In what order do the operations happen? \n",
    "\n",
    "radiance = 1.0 \n",
    "\n",
    "radiance = max(2.1, 2.0 + min(radiance, 1.1 * radiance - 0.5))"
   ]
  },
  {
   "cell_type": "code",
   "execution_count": null,
   "id": "dfa279ee-8213-428b-b13f-d6496f5e6605",
   "metadata": {},
   "outputs": [],
   "source": [
    "radiance = 1.0\n",
    "radiance = max(2.1, 2.0 + min(radiance, 1.1 * radiance - 0.5))\n",
    "print(radiance)"
   ]
  },
  {
   "cell_type": "code",
   "execution_count": null,
   "id": "f3490551-96c6-4937-b40b-87b0cdcf90c3",
   "metadata": {},
   "outputs": [],
   "source": [
    "# Break down these operations \n",
    "radiance = 1.0 \n",
    "\n",
    "min_arg_2 = 1.1 * radiance - 0.5\n",
    "print(\"Min arg 2:\", min_arg_2)\n",
    "\n",
    "min_result = min(radiance, min_arg_2)\n",
    "print(\"Min result:\", min_result)\n",
    "\n",
    "radiance = max(2.1,2.0 + min_result)\n",
    "print(radiance)"
   ]
  },
  {
   "cell_type": "markdown",
   "id": "7d7a76c2-07fd-43d2-bdd8-5684845364e2",
   "metadata": {},
   "source": [
    "# A Brief Interlude with Git"
   ]
  },
  {
   "cell_type": "markdown",
   "id": "69580099-aee9-4e91-ba95-a0c9329d6bd8",
   "metadata": {},
   "source": [
    "## Libraries"
   ]
  },
  {
   "cell_type": "code",
   "execution_count": null,
   "id": "883f829e-37db-4f0d-9a43-38919367d26f",
   "metadata": {},
   "outputs": [],
   "source": [
    "import math"
   ]
  },
  {
   "cell_type": "code",
   "execution_count": null,
   "id": "d4177976-ea74-4478-8c2e-17f042b18d86",
   "metadata": {},
   "outputs": [],
   "source": [
    "math.pi\n"
   ]
  },
  {
   "cell_type": "code",
   "execution_count": null,
   "id": "561bfa82-8382-4635-8859-04e6ebbfd3e2",
   "metadata": {},
   "outputs": [],
   "source": [
    "print(math.pi)\n",
    "print(math.cos(math.pi))"
   ]
  },
  {
   "cell_type": "code",
   "execution_count": null,
   "id": "5a5add3f-32c6-4575-8e9c-e636e27e07b4",
   "metadata": {},
   "outputs": [],
   "source": [
    "# get complete help with help ()\n",
    "# help(math)\n",
    "\n",
    "#Get a list of options with dir()\n",
    "print(dir(math))"
   ]
  },
  {
   "cell_type": "markdown",
   "id": "46a4aa58-e3bf-4855-bd18-715037d68cce",
   "metadata": {},
   "source": [
    "## List"
   ]
  },
  {
   "cell_type": "code",
   "execution_count": null,
   "id": "16250821-c5c5-4133-b821-37e41ffb0df9",
   "metadata": {},
   "outputs": [],
   "source": [
    "# A list is an ordered collection of stuff\n",
    "fruits = [\"apple\", \"banana\", \"cherry\", \"date\",\"elderberry\", \"fig\"]"
   ]
  },
  {
   "cell_type": "code",
   "execution_count": null,
   "id": "1a62b60c-50a0-412e-8b3f-b3d82e2ddbad",
   "metadata": {},
   "outputs": [],
   "source": [
    "fruits"
   ]
  },
  {
   "cell_type": "code",
   "execution_count": null,
   "id": "ec6fbec5-775f-4efb-b45d-f5b364f70bec",
   "metadata": {},
   "outputs": [],
   "source": [
    "len(fruits)"
   ]
  },
  {
   "cell_type": "code",
   "execution_count": null,
   "id": "2a5e3ea3-08d9-4eec-b156-eb58c8290122",
   "metadata": {},
   "outputs": [],
   "source": [
    "## List are indexed by position, counting from 0 \n",
    "# First item \n",
    "print(fruits[0])\n",
    "\n",
    "# Fifth item \n",
    "print(fruits[4])"
   ]
  },
  {
   "cell_type": "code",
   "execution_count": null,
   "id": "6f3750f8-1292-4291-8bce-c3f61aa9d357",
   "metadata": {},
   "outputs": [],
   "source": [
    "# Get subsets by slicing the list \n",
    "# Get the first 3 items \n",
    "fruits[0:3]"
   ]
  },
  {
   "cell_type": "code",
   "execution_count": null,
   "id": "9d333499-b675-40b3-91d3-90a7bac8da72",
   "metadata": {},
   "outputs": [],
   "source": [
    "fruits[2:5]"
   ]
  },
  {
   "cell_type": "code",
   "execution_count": null,
   "id": "b7da0b11-e451-40e1-9d9d-7ff1f03f24a0",
   "metadata": {},
   "outputs": [],
   "source": [
    "# Get items bys step \n",
    "# Get the first 5 items, every other item \n",
    "fruits[0:5:2]"
   ]
  },
  {
   "cell_type": "code",
   "execution_count": null,
   "id": "10a1f7dd-54ff-48db-8e7b-fd849fd7ea85",
   "metadata": {},
   "outputs": [],
   "source": [
    "# Get first 5 items, every 3rd item \n",
    "fruits[0:5:3]"
   ]
  },
  {
   "cell_type": "code",
   "execution_count": null,
   "id": "61a59dfc-7a20-427c-ab59-5c417de74172",
   "metadata": {},
   "outputs": [],
   "source": [
    "print(len(fruits))"
   ]
  },
  {
   "cell_type": "markdown",
   "id": "6b7c3633-1e81-4c5b-8e36-7c065a46a8db",
   "metadata": {},
   "source": [
    "## Challange \n",
    "fruits[-1]\n",
    "\n",
    "fruits[20]\n",
    "\n",
    "fruits[-3:]"
   ]
  },
  {
   "cell_type": "code",
   "execution_count": null,
   "id": "6cdcb50b-09a9-41f1-ab46-0dfa5f3881f0",
   "metadata": {
    "scrolled": true
   },
   "outputs": [],
   "source": [
    "print(fruits[-1])\n",
    "\n",
    "#print(fruits[20])\n",
    "\n",
    "print(fruits[-3:])"
   ]
  },
  {
   "cell_type": "code",
   "execution_count": null,
   "id": "c6c5197a-d377-4261-b8c3-e6b2e6196069",
   "metadata": {},
   "outputs": [],
   "source": [
    "# Why are lists indexed this way? \n",
    "print(fruits[:2])\n",
    "print(fruits[2:])\n",
    "print(len(fruits[1:3]))"
   ]
  },
  {
   "cell_type": "markdown",
   "id": "e49f2c16-aba1-4dc0-ba33-de557db73dcb",
   "metadata": {},
   "source": [
    "# Adding stuff to list"
   ]
  },
  {
   "cell_type": "code",
   "execution_count": null,
   "id": "c227e8cd-f823-4863-b951-3a0fa6dbb38f",
   "metadata": {},
   "outputs": [],
   "source": [
    "# Update a specific item \n",
    "print(fruits)\n",
    "\n",
    "fruits[0] = \"apricot\"\n",
    "print(fruits)"
   ]
  },
  {
   "cell_type": "code",
   "execution_count": null,
   "id": "d2b6ddfa-ac86-45eb-a4bb-052a47241a5c",
   "metadata": {},
   "outputs": [],
   "source": [
    "# Add new items to the list \n",
    "fruits.append(\"grape\")\n",
    "\n",
    "print(fruits)"
   ]
  },
  {
   "cell_type": "code",
   "execution_count": null,
   "id": "dbf27498-e826-4e37-98bd-ac99d34e3bfa",
   "metadata": {},
   "outputs": [],
   "source": [
    "# Add items from a second list to the first list\n",
    "more_fruits = [\"honeydew\", \"imbe\", \"jackfruit\"]\n",
    "fruits.extend(more_fruits)\n",
    "\n",
    "print(fruits)"
   ]
  },
  {
   "cell_type": "code",
   "execution_count": null,
   "id": "b51fca2c-ebbf-44b6-af94-688a2c2f6bf2",
   "metadata": {},
   "outputs": [],
   "source": [
    "# Many functions operate on collections \n",
    "# Asessing our wide receiving corp \n",
    "receiving_yards = [450, 370, 870, 150]\n",
    "\n",
    "mean_yards = sum(receiving_yards)/len(receiving_yards)\n",
    "print(mean_yards)"
   ]
  },
  {
   "cell_type": "markdown",
   "id": "5d279a9a-a8fb-4b36-a5cd-aecef3fd4345",
   "metadata": {},
   "source": [
    "# For loops"
   ]
  },
  {
   "cell_type": "code",
   "execution_count": null,
   "id": "219f345f-5c90-4f77-93b1-af7e340add7c",
   "metadata": {},
   "outputs": [],
   "source": [
    "for fruit in fruits: \n",
    "    print(fruits)"
   ]
  },
  {
   "cell_type": "code",
   "execution_count": null,
   "id": "77b6489c-b3a7-4dd5-8d67-44abb3184c63",
   "metadata": {},
   "outputs": [],
   "source": [
    "for bob in fruits: \n",
    "    print(bob)"
   ]
  },
  {
   "cell_type": "code",
   "execution_count": null,
   "id": "c0c370da-cce8-48d4-a321-9fcc75d6c3c7",
   "metadata": {},
   "outputs": [],
   "source": [
    "# Code blocks can contain many statements \n",
    "primes = [2, 3, 5]\n",
    "for p in primes:\n",
    "    squared = p ** 2\n",
    "    cubed = p ** 3 \n",
    "    print(p, squared, cubed)\n",
    "    "
   ]
  },
  {
   "cell_type": "code",
   "execution_count": null,
   "id": "fe1e994e-2e2a-4f83-bbaf-5455f58b499c",
   "metadata": {},
   "outputs": [],
   "source": [
    "# Create a new collection from an existing collection \n",
    "primes_squared = []\n",
    "for p in primes:\n",
    "    primes_squared.append(p ** 2)\n",
    "\n",
    "print(primes_squared)"
   ]
  },
  {
   "cell_type": "markdown",
   "id": "644ab9af-0aca-417a-8258-ff1c3080316c",
   "metadata": {},
   "source": [
    "## Challange\n",
    "Get the total lenght of all the items in the fruits list."
   ]
  },
  {
   "cell_type": "code",
   "execution_count": null,
   "id": "09e2c165-5f6b-420b-a956-323f30186fda",
   "metadata": {},
   "outputs": [],
   "source": [
    "print(len(fruits))"
   ]
  },
  {
   "cell_type": "code",
   "execution_count": null,
   "id": "fcf93864-8637-4b6b-8125-f22b4fb82e7f",
   "metadata": {},
   "outputs": [],
   "source": [
    "# Solution 1 \n",
    "fruit_lenghts = []\n",
    "for f in fruits: \n",
    "    fruit_lenghts.append(len(f))\n",
    "\n",
    "print(fruit_lenghts)\n",
    "print(sum(fruit_lenghts))"
   ]
  },
  {
   "cell_type": "code",
   "execution_count": null,
   "id": "072d7869-6b3d-4175-a989-f9aa6bf6c18a",
   "metadata": {},
   "outputs": [],
   "source": [
    "# Solution 2 \n",
    "count = 0 \n",
    "for f in fruits: \n",
    "    count = count + len(f)\n",
    "    print(count) \n",
    "\n",
    "print(\"Final count\", count)"
   ]
  },
  {
   "cell_type": "code",
   "execution_count": null,
   "id": "86d9d76e-ac46-4ef6-b9fc-aa87d69bf697",
   "metadata": {},
   "outputs": [],
   "source": [
    "# Generator comprehension \n",
    "sum(len(f) for f in fruits)"
   ]
  },
  {
   "cell_type": "code",
   "execution_count": null,
   "id": "15164d3b-e559-41af-a1b7-cf67d9f1bc70",
   "metadata": {},
   "outputs": [],
   "source": [
    "print (\"  \".join(fruits))"
   ]
  },
  {
   "cell_type": "code",
   "execution_count": null,
   "id": "3b0a2b2f-93c5-4ea6-952f-96f844c8873c",
   "metadata": {},
   "outputs": [],
   "source": [
    "print(\"_\".join(fruits))"
   ]
  },
  {
   "cell_type": "code",
   "execution_count": null,
   "id": "8b0c3229-4a56-4e91-8e52-276cc4df2866",
   "metadata": {},
   "outputs": [],
   "source": []
  }
 ],
 "metadata": {
  "kernelspec": {
   "display_name": "Python 3 (ipykernel)",
   "language": "python",
   "name": "python3"
  },
  "language_info": {
   "codemirror_mode": {
    "name": "ipython",
    "version": 3
   },
   "file_extension": ".py",
   "mimetype": "text/x-python",
   "name": "python",
   "nbconvert_exporter": "python",
   "pygments_lexer": "ipython3",
   "version": "3.12.4"
  }
 },
 "nbformat": 4,
 "nbformat_minor": 5
}
