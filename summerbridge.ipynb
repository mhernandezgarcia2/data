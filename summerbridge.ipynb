{
 "cells": [
  {
   "cell_type": "code",
   "execution_count": null,
   "id": "dc94553f-22c1-4af2-8a1c-59b78da6969f",
   "metadata": {},
   "outputs": [],
   "source": [
    "3+7"
   ]
  },
  {
   "cell_type": "code",
   "execution_count": null,
   "id": "fda428ad-48ac-4fe7-a4b7-4abdd80a3c92",
   "metadata": {},
   "outputs": [],
   "source": [
    "5+25"
   ]
  },
  {
   "cell_type": "code",
   "execution_count": null,
   "id": "4618b9b9-9c84-4a84-b8b5-e54bd6accd09",
   "metadata": {},
   "outputs": [],
   "source": [
    "print"
   ]
  },
  {
   "cell_type": "code",
   "execution_count": null,
   "id": "32b56187-da9b-4ea9-b5f6-4c60a3b55385",
   "metadata": {},
   "outputs": [],
   "source": [
    "print(\"hello\")"
   ]
  },
  {
   "cell_type": "code",
   "execution_count": null,
   "id": "7700e3d3-d1ab-4009-9523-871d04ef7372",
   "metadata": {},
   "outputs": [],
   "source": [
    "print(7)"
   ]
  },
  {
   "cell_type": "code",
   "execution_count": null,
   "id": "5a59fe38-20ca-408c-a2b3-124de1ad50b2",
   "metadata": {},
   "outputs": [],
   "source": [
    "name = \"Marisol\"\n",
    "age = 21"
   ]
  },
  {
   "cell_type": "code",
   "execution_count": null,
   "id": "2ecf0c55-ad0f-4ee0-bb82-0d1a8704931d",
   "metadata": {},
   "outputs": [],
   "source": [
    "print(age)"
   ]
  },
  {
   "cell_type": "code",
   "execution_count": null,
   "id": "e8cfc501-40ed-4e7c-a1ca-33d05ef01b14",
   "metadata": {},
   "outputs": [],
   "source": [
    "#This is a comment. It will not run "
   ]
  },
  {
   "cell_type": "code",
   "execution_count": null,
   "id": "bec56083-31b6-4c67-aa6f-31a7fa5e42cb",
   "metadata": {},
   "outputs": [],
   "source": [
    "# ou can echo values without using print in this notebook \n",
    "name"
   ]
  },
  {
   "cell_type": "markdown",
   "id": "5f9aa8f6-f28a-43a4-8453-cf0e1b602e40",
   "metadata": {},
   "source": [
    "# Variables and Values"
   ]
  },
  {
   "cell_type": "code",
   "execution_count": null,
   "id": "0e18c113-578f-4b6f-8300-74a64f9544f1",
   "metadata": {},
   "outputs": [],
   "source": [
    "# Variables can be used in calculations \n",
    "print(age)\n",
    "age = age +3 \n",
    "print(age)"
   ]
  },
  {
   "cell_type": "code",
   "execution_count": null,
   "id": "f788294b-def1-4337-ac7e-ca73039866c3",
   "metadata": {},
   "outputs": [],
   "source": [
    "#Order of operations matters!\n",
    "first = 1\n",
    "second = 2 \n",
    "second = first * 5\n",
    "first = 2 \n",
    "\n",
    "print(first)\n",
    "print(second)"
   ]
  },
  {
   "cell_type": "code",
   "execution_count": null,
   "id": "f4bc951f-2025-464e-891f-f28d5bfe1eee",
   "metadata": {
    "scrolled": true
   },
   "outputs": [],
   "source": [
    "# Values have types. Types affect what you can do with them. \n",
    "print(5-3)\n",
    "#print(\"hello\" - \"h\")"
   ]
  },
  {
   "cell_type": "code",
   "execution_count": null,
   "id": "d921a729-4a90-4fc4-9dff-695224078763",
   "metadata": {},
   "outputs": [],
   "source": [
    "print(len(\"hello\"))\n",
    "#print(len(6))"
   ]
  },
  {
   "cell_type": "code",
   "execution_count": null,
   "id": "e533c784-b93a-4697-8424-5bee8e9c5ab4",
   "metadata": {},
   "outputs": [],
   "source": [
    "## Challenge\n",
    "#Explain what each operator does \n",
    "\n",
    "print(5 // 3)\n",
    "\n",
    "print(5 / 3)\n",
    "\n",
    "print(5 % 3)"
   ]
  },
  {
   "cell_type": "markdown",
   "id": "bab219be-0168-4ee7-882c-ccd69de07c84",
   "metadata": {},
   "source": [
    "# Getting help"
   ]
  },
  {
   "cell_type": "code",
   "execution_count": null,
   "id": "181c9e16-19d8-4234-8020-93e56f927f99",
   "metadata": {},
   "outputs": [],
   "source": [
    "# Rounding numbers is built in \n",
    "round(3.14159)"
   ]
  },
  {
   "cell_type": "code",
   "execution_count": null,
   "id": "60cbaa78-e049-4dbb-9dd5-abdd46e8fa5d",
   "metadata": {},
   "outputs": [],
   "source": [
    "round(3.14159, 2)"
   ]
  },
  {
   "cell_type": "code",
   "execution_count": null,
   "id": "47ec72db-75c5-4b8e-90e3-fa96f600c8c6",
   "metadata": {},
   "outputs": [],
   "source": [
    "help(round)"
   ]
  },
  {
   "cell_type": "code",
   "execution_count": null,
   "id": "2eb444ad-409b-4705-a035-4c36613e5629",
   "metadata": {},
   "outputs": [],
   "source": [
    "round(3.14159, ndigits=2)"
   ]
  },
  {
   "cell_type": "code",
   "execution_count": null,
   "id": "2d662bb7-6f59-4d35-9cb5-f23d3a11cdd3",
   "metadata": {},
   "outputs": [],
   "source": [
    "# All functions return a new value\n",
    "rounded_pi = round(3.14159, 2)\n",
    "print(rounded_pi)"
   ]
  },
  {
   "cell_type": "markdown",
   "id": "01c26b0e-843c-4480-8c2b-a36fed871996",
   "metadata": {},
   "source": [
    "## Challange\n",
    "\n",
    "In what order do the operations happen? \n",
    "\n",
    "radiance = 1.0 \n",
    "\n",
    "radiance = max(2.1, 2.0 + min(radiance, 1.1 * radiance - 0.5))"
   ]
  },
  {
   "cell_type": "code",
   "execution_count": null,
   "id": "dfa279ee-8213-428b-b13f-d6496f5e6605",
   "metadata": {},
   "outputs": [],
   "source": [
    "radiance = 1.0\n",
    "radiance = max(2.1, 2.0 + min(radiance, 1.1 * radiance - 0.5))\n",
    "print(radiance)"
   ]
  },
  {
   "cell_type": "code",
   "execution_count": null,
   "id": "f3490551-96c6-4937-b40b-87b0cdcf90c3",
   "metadata": {},
   "outputs": [],
   "source": [
    "# Break down these operations \n",
    "radiance = 1.0 \n",
    "\n",
    "min_arg_2 = 1.1 * radiance - 0.5\n",
    "print(\"Min arg 2:\", min_arg_2)\n",
    "\n",
    "min_result = min(radiance, min_arg_2)\n",
    "print(\"Min result:\", min_result)\n",
    "\n",
    "radiance = max(2.1,2.0 + min_result)\n",
    "print(radiance)"
   ]
  },
  {
   "cell_type": "markdown",
   "id": "7d7a76c2-07fd-43d2-bdd8-5684845364e2",
   "metadata": {},
   "source": [
    "# A Brief Interlude with Git"
   ]
  },
  {
   "cell_type": "code",
   "execution_count": null,
   "id": "39e5e7af-32a2-40dc-ae22-5f076791fe32",
   "metadata": {},
   "outputs": [],
   "source": []
  }
 ],
 "metadata": {
  "kernelspec": {
   "display_name": "Python 3 (ipykernel)",
   "language": "python",
   "name": "python3"
  },
  "language_info": {
   "codemirror_mode": {
    "name": "ipython",
    "version": 3
   },
   "file_extension": ".py",
   "mimetype": "text/x-python",
   "name": "python",
   "nbconvert_exporter": "python",
   "pygments_lexer": "ipython3",
   "version": "3.12.4"
  }
 },
 "nbformat": 4,
 "nbformat_minor": 5
}
